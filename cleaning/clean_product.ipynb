{
 "cells": [
  {
   "cell_type": "markdown",
   "id": "f1ef051f",
   "metadata": {},
   "source": [
    "## Imports and Setup"
   ]
  },
  {
   "cell_type": "code",
   "execution_count": 2,
   "id": "f97b75f7",
   "metadata": {},
   "outputs": [
    {
     "name": "stderr",
     "output_type": "stream",
     "text": [
      "/Users/nicks/Documents/Coding_Projects/sale-transactions-analysis/venv/lib/python3.9/site-packages/urllib3/__init__.py:35: NotOpenSSLWarning: urllib3 v2 only supports OpenSSL 1.1.1+, currently the 'ssl' module is compiled with 'LibreSSL 2.8.3'. See: https://github.com/urllib3/urllib3/issues/3020\n",
      "  warnings.warn(\n"
     ]
    },
    {
     "data": {
      "text/html": [
       "\n",
       "            <div>\n",
       "                <ins><a href=\"https://ydata.ai/register\">Upgrade to ydata-sdk</a></ins>\n",
       "                <p>\n",
       "                    Improve your data and profiling with ydata-sdk, featuring data quality scoring, redundancy detection, outlier identification, text validation, and synthetic data generation.\n",
       "                </p>\n",
       "            </div>\n",
       "            "
      ],
      "text/plain": [
       "<IPython.core.display.HTML object>"
      ]
     },
     "metadata": {},
     "output_type": "display_data"
    }
   ],
   "source": [
    "import pandas as pd\n",
    "import os\n",
    "from ydata_profiling import ProfileReport\n",
    "\n",
    "# Define relative path\n",
    "report_dir = '../reports/documents'\n",
    "report_filename = 'product_data_profile.html'\n",
    "report_path = os.path.join(report_dir, report_filename)"
   ]
  },
  {
   "cell_type": "markdown",
   "id": "e9865d2b",
   "metadata": {},
   "source": [
    "## Functions\n",
    "### Function for Cleaning Product"
   ]
  },
  {
   "cell_type": "code",
   "execution_count": 3,
   "id": "27d4d336",
   "metadata": {},
   "outputs": [
    {
     "name": "stdout",
     "output_type": "stream",
     "text": [
      "File loaded successfully!\n"
     ]
    }
   ],
   "source": [
    "# Load the data\n",
    "try:\n",
    "    products_df = pd.read_csv('../data/raw/products.csv')\n",
    "    print(\"File loaded successfully!\")\n",
    "except FileNotFoundError as e:\n",
    "    print(e)\n",
    "    print(\"make sure the files are in data/raw\")"
   ]
  },
  {
   "cell_type": "code",
   "execution_count": 4,
   "id": "aacd3b81",
   "metadata": {},
   "outputs": [
    {
     "name": "stderr",
     "output_type": "stream",
     "text": [
      "100%|██████████| 9/9 [00:00<00:00, 71.81it/s]00<00:01, 11.92it/s, Describe variable: product_width_cm] \n",
      "Summarize dataset: 100%|██████████| 68/68 [00:03<00:00, 19.34it/s, Completed]                                                     \n",
      "Generate report structure: 100%|██████████| 1/1 [00:01<00:00,  1.65s/it]\n",
      "Render HTML: 100%|██████████| 1/1 [00:00<00:00,  1.23it/s]\n",
      "Export report to file: 100%|██████████| 1/1 [00:00<00:00, 304.31it/s]"
     ]
    },
    {
     "name": "stdout",
     "output_type": "stream",
     "text": [
      "Profile report is successfully created.\n"
     ]
    },
    {
     "name": "stderr",
     "output_type": "stream",
     "text": [
      "\n"
     ]
    }
   ],
   "source": [
    "# Use the profile report\n",
    "if 'products_df' in locals():\n",
    "    product_profile = ProfileReport(products_df, title=\"Products Data Profile\")\n",
    "    # Turn the profile report into an HTML file\n",
    "    product_profile.to_file(report_path)\n",
    "    print(\"Profile report is successfully created.\")\n",
    "\n"
   ]
  }
 ],
 "metadata": {
  "kernelspec": {
   "display_name": "venv",
   "language": "python",
   "name": "python3"
  },
  "language_info": {
   "codemirror_mode": {
    "name": "ipython",
    "version": 3
   },
   "file_extension": ".py",
   "mimetype": "text/x-python",
   "name": "python",
   "nbconvert_exporter": "python",
   "pygments_lexer": "ipython3",
   "version": "3.9.6"
  }
 },
 "nbformat": 4,
 "nbformat_minor": 5
}
