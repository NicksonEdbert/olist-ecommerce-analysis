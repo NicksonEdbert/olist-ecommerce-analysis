{
 "cells": [
  {
   "cell_type": "markdown",
   "id": "f1ef051f",
   "metadata": {},
   "source": [
    "## Imports and Setup"
   ]
  },
  {
   "cell_type": "code",
   "execution_count": null,
   "id": "f97b75f7",
   "metadata": {},
   "outputs": [],
   "source": [
    "import pandas as pd\n",
    "import os\n",
    "from ydata_profiling import ProfileReport"
   ]
  },
  {
   "cell_type": "markdown",
   "id": "e9865d2b",
   "metadata": {},
   "source": [
    "## Functions\n",
    "### Function for Cleaning Product"
   ]
  },
  {
   "cell_type": "code",
   "execution_count": 20,
   "id": "27d4d336",
   "metadata": {},
   "outputs": [
    {
     "name": "stdout",
     "output_type": "stream",
     "text": [
      "File loaded successfully!\n"
     ]
    }
   ],
   "source": [
    "# Load the data\n",
    "try:\n",
    "    products_df = pd.read_csv('../data/raw/products.csv')\n",
    "    print(\"File loaded successfully!\")\n",
    "except FileNotFoundError as e:\n",
    "    print(e)\n",
    "    print(\"make sure the files are in data/raw\")"
   ]
  },
  {
   "cell_type": "code",
   "execution_count": null,
   "id": "aacd3b81",
   "metadata": {},
   "outputs": [
    {
     "name": "stdout",
     "output_type": "stream",
     "text": [
      "yes\n"
     ]
    }
   ],
   "source": [
    "# Use the profile report\n",
    "if 'products_df' in locals():\n",
    "    product_profile = ProfileReport(products_df, title=\"Products Data Profile\")"
   ]
  }
 ],
 "metadata": {
  "kernelspec": {
   "display_name": "venv",
   "language": "python",
   "name": "python3"
  },
  "language_info": {
   "codemirror_mode": {
    "name": "ipython",
    "version": 3
   },
   "file_extension": ".py",
   "mimetype": "text/x-python",
   "name": "python",
   "nbconvert_exporter": "python",
   "pygments_lexer": "ipython3",
   "version": "3.9.6"
  }
 },
 "nbformat": 4,
 "nbformat_minor": 5
}
