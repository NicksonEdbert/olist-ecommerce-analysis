{
 "cells": [
  {
   "cell_type": "markdown",
   "id": "f1ef051f",
   "metadata": {},
   "source": [
    "## Imports and Setup"
   ]
  },
  {
   "cell_type": "code",
   "execution_count": 7,
   "id": "f97b75f7",
   "metadata": {},
   "outputs": [],
   "source": [
    "import pandas as pd\n",
    "import os\n",
    "from ydata_profiling import ProfileReport\n",
    "\n",
    "# Define relative path\n",
    "report_dir = '../reports/documents'\n",
    "report_filename = 'product_data_profile.html'\n",
    "report_path = os.path.join(report_dir, report_filename)"
   ]
  },
  {
   "cell_type": "markdown",
   "id": "e9865d2b",
   "metadata": {},
   "source": [
    "## Functions\n",
    "### Function for Cleaning Product"
   ]
  },
  {
   "cell_type": "code",
   "execution_count": 8,
   "id": "27d4d336",
   "metadata": {},
   "outputs": [
    {
     "name": "stdout",
     "output_type": "stream",
     "text": [
      "File loaded successfully!\n"
     ]
    }
   ],
   "source": [
    "# Load the data\n",
    "try:\n",
    "    products_df = pd.read_csv('../data/raw/products.csv')\n",
    "    print(\"File loaded successfully!\")\n",
    "except FileNotFoundError as e:\n",
    "    print(e)\n",
    "    print(\"make sure the files are in data/raw\")"
   ]
  },
  {
   "cell_type": "code",
   "execution_count": 9,
   "id": "aacd3b81",
   "metadata": {},
   "outputs": [
    {
     "name": "stderr",
     "output_type": "stream",
     "text": [
      "100%|██████████| 9/9 [00:00<00:00, 43.40it/s]00<00:03,  3.27it/s, Describe variable: product_width_cm] \n",
      "Summarize dataset: 100%|██████████| 68/68 [00:03<00:00, 19.44it/s, Completed]                                                     \n",
      "Generate report structure: 100%|██████████| 1/1 [00:01<00:00,  1.72s/it]\n",
      "Render HTML: 100%|██████████| 1/1 [00:00<00:00,  1.29it/s]\n",
      "Export report to file: 100%|██████████| 1/1 [00:00<00:00, 188.86it/s]"
     ]
    },
    {
     "name": "stdout",
     "output_type": "stream",
     "text": [
      "Profile report is successfully created.\n"
     ]
    },
    {
     "name": "stderr",
     "output_type": "stream",
     "text": [
      "\n"
     ]
    }
   ],
   "source": [
    "# Use the profile report\n",
    "if 'products_df' in locals():\n",
    "    product_profile = ProfileReport(products_df, title=\"Products Data Profile\")\n",
    "    # Turn the profile report into an HTML file\n",
    "    product_profile.to_file(report_path)\n",
    "    print(\"Profile report is successfully created.\")\n",
    "\n"
   ]
  },
  {
   "cell_type": "code",
   "execution_count": 12,
   "id": "c0aa67ee",
   "metadata": {},
   "outputs": [
    {
     "name": "stdout",
     "output_type": "stream",
     "text": [
      "                           product_id product_category_name  \\\n",
      "105  a41e356c76fab66334f36de622ecbd3a                   NaN   \n",
      "128  d8dee61c2034d6d075997acef1870e9b                   NaN   \n",
      "145  56139431d72cd51f19eb9f7dae4d1617                   NaN   \n",
      "154  46b48281eb6d663ced748f324108c733                   NaN   \n",
      "197  5fb61f482620cb672f5e586bb132eae9                   NaN   \n",
      "\n",
      "     product_name_lenght  product_description_lenght  product_photos_qty  \\\n",
      "105                  NaN                         NaN                 NaN   \n",
      "128                  NaN                         NaN                 NaN   \n",
      "145                  NaN                         NaN                 NaN   \n",
      "154                  NaN                         NaN                 NaN   \n",
      "197                  NaN                         NaN                 NaN   \n",
      "\n",
      "     product_weight_g  product_length_cm  product_height_cm  product_width_cm  \n",
      "105             650.0               17.0               14.0              12.0  \n",
      "128             300.0               16.0                7.0              20.0  \n",
      "145             200.0               20.0               20.0              20.0  \n",
      "154           18500.0               41.0               30.0              41.0  \n",
      "197             300.0               35.0                7.0              12.0  \n"
     ]
    }
   ],
   "source": [
    "print(products_df[products_df['product_category_name'].isna()].head())"
   ]
  }
 ],
 "metadata": {
  "kernelspec": {
   "display_name": "venv",
   "language": "python",
   "name": "python3"
  },
  "language_info": {
   "codemirror_mode": {
    "name": "ipython",
    "version": 3
   },
   "file_extension": ".py",
   "mimetype": "text/x-python",
   "name": "python",
   "nbconvert_exporter": "python",
   "pygments_lexer": "ipython3",
   "version": "3.9.6"
  }
 },
 "nbformat": 4,
 "nbformat_minor": 5
}
