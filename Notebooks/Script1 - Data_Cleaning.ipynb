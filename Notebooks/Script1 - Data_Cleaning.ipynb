{
 "cells": [
  {
   "cell_type": "markdown",
   "id": "7cef7dc5",
   "metadata": {},
   "source": [
    "# Data Cleaning and Preparation"
   ]
  },
  {
   "cell_type": "markdown",
   "id": "f1ef051f",
   "metadata": {},
   "source": [
    "## Imports and Setup"
   ]
  },
  {
   "cell_type": "markdown",
   "id": "ad31133c",
   "metadata": {},
   "source": []
  },
  {
   "cell_type": "code",
   "execution_count": null,
   "id": "f97b75f7",
   "metadata": {},
   "outputs": [],
   "source": [
    "import pandas as pd\n",
    "import os"
   ]
  },
  {
   "cell_type": "markdown",
   "id": "e9865d2b",
   "metadata": {},
   "source": [
    "## Functions\n",
    "### Function for Cleaning Orders"
   ]
  },
  {
   "cell_type": "code",
   "execution_count": null,
   "id": "27d4d336",
   "metadata": {},
   "outputs": [],
   "source": [
    "def clean_orders(df):\n",
    "    return"
   ]
  },
  {
   "cell_type": "markdown",
   "id": "849ca31f",
   "metadata": {},
   "source": [
    "## Process\n",
    "### Process Orders"
   ]
  },
  {
   "cell_type": "code",
   "execution_count": null,
   "id": "5fc60822",
   "metadata": {},
   "outputs": [],
   "source": [
    "df_orders_raw = pd.read_csv('data/raw/Data - Orders.csv')"
   ]
  }
 ],
 "metadata": {
  "kernelspec": {
   "display_name": "venv",
   "language": "python",
   "name": "python3"
  },
  "language_info": {
   "codemirror_mode": {
    "name": "ipython",
    "version": 3
   },
   "file_extension": ".py",
   "mimetype": "text/x-python",
   "name": "python",
   "nbconvert_exporter": "python",
   "pygments_lexer": "ipython3",
   "version": "3.9.6"
  }
 },
 "nbformat": 4,
 "nbformat_minor": 5
}
