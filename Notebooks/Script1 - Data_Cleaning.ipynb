{
 "cells": [
  {
   "cell_type": "markdown",
   "id": "7cef7dc5",
   "metadata": {},
   "source": [
    "# Olist Dataset Analysis"
   ]
  },
  {
   "cell_type": "markdown",
   "id": "f1ef051f",
   "metadata": {},
   "source": [
    "## Imports and Setup"
   ]
  },
  {
   "cell_type": "code",
   "execution_count": 2,
   "id": "f97b75f7",
   "metadata": {},
   "outputs": [],
   "source": [
    "import pandas as pd\n",
    "import os"
   ]
  },
  {
   "cell_type": "markdown",
   "id": "e9865d2b",
   "metadata": {},
   "source": [
    "## Data Loading\n",
    "The dataset is loaded from a CSV file into a pandas DataFrame. We'll then inspect the first few rows to ensure it loaded correctly."
   ]
  },
  {
   "cell_type": "code",
   "execution_count": null,
   "id": "ab066972",
   "metadata": {},
   "outputs": [
    {
     "name": "stdout",
     "output_type": "stream",
     "text": [
      "<class 'pandas.core.frame.DataFrame'>\n",
      "RangeIndex: 32951 entries, 0 to 32950\n",
      "Data columns (total 9 columns):\n",
      " #   Column                      Non-Null Count  Dtype  \n",
      "---  ------                      --------------  -----  \n",
      " 0   product_id                  32951 non-null  object \n",
      " 1   product_category_name       32341 non-null  object \n",
      " 2   product_name_lenght         32341 non-null  float64\n",
      " 3   product_description_lenght  32341 non-null  float64\n",
      " 4   product_photos_qty          32341 non-null  float64\n",
      " 5   product_weight_g            32949 non-null  float64\n",
      " 6   product_length_cm           32949 non-null  float64\n",
      " 7   product_height_cm           32949 non-null  float64\n",
      " 8   product_width_cm            32949 non-null  float64\n",
      "dtypes: float64(7), object(2)\n",
      "memory usage: 2.3+ MB\n",
      "<class 'pandas.core.frame.DataFrame'>\n",
      "RangeIndex: 112650 entries, 0 to 112649\n",
      "Data columns (total 7 columns):\n",
      " #   Column               Non-Null Count   Dtype  \n",
      "---  ------               --------------   -----  \n",
      " 0   order_id             112650 non-null  object \n",
      " 1   order_item_id        112650 non-null  int64  \n",
      " 2   product_id           112650 non-null  object \n",
      " 3   seller_id            112650 non-null  object \n",
      " 4   shipping_limit_date  112650 non-null  object \n",
      " 5   price                112650 non-null  float64\n",
      " 6   freight_value        112650 non-null  float64\n",
      "dtypes: float64(2), int64(1), object(4)\n",
      "memory usage: 6.0+ MB\n"
     ]
    }
   ],
   "source": [
    "# Question: What are the top 5 best-selling product category by revenue?\n",
    "# 1. We need product category - Product Dataset\n",
    "# 2. We need the total price for each category - Order Items Dataset\n",
    "# 3. (Optional) Product category name in English - Category Name Dataset\n",
    "\n",
    "# Load Products data\n",
    "product = pd.read_csv(\"Datasets/Data - Products.csv\") # The path is correct and working\n",
    "product_df = pd.DataFrame(product) # Products dataframe is created\n",
    "\n",
    "# Load Order Items data\n",
    "items = pd.read_csv(\"Datasets/Data - Order_Items.csv\")\n",
    "items_df = pd.DataFrame(items)\n",
    "\n",
    "product_df.info()\n",
    "items_df.info()"
   ]
  },
  {
   "cell_type": "code",
   "execution_count": 4,
   "id": "f3068dc5",
   "metadata": {},
   "outputs": [
    {
     "name": "stdout",
     "output_type": "stream",
     "text": [
      "<class 'pandas.core.frame.DataFrame'>\n",
      "RangeIndex: 112650 entries, 0 to 112649\n",
      "Data columns (total 15 columns):\n",
      " #   Column                      Non-Null Count   Dtype  \n",
      "---  ------                      --------------   -----  \n",
      " 0   product_id                  112650 non-null  object \n",
      " 1   product_category_name       111047 non-null  object \n",
      " 2   product_name_lenght         111047 non-null  float64\n",
      " 3   product_description_lenght  111047 non-null  float64\n",
      " 4   product_photos_qty          111047 non-null  float64\n",
      " 5   product_weight_g            112632 non-null  float64\n",
      " 6   product_length_cm           112632 non-null  float64\n",
      " 7   product_height_cm           112632 non-null  float64\n",
      " 8   product_width_cm            112632 non-null  float64\n",
      " 9   order_id                    112650 non-null  object \n",
      " 10  order_item_id               112650 non-null  int64  \n",
      " 11  seller_id                   112650 non-null  object \n",
      " 12  shipping_limit_date         112650 non-null  object \n",
      " 13  price                       112650 non-null  float64\n",
      " 14  freight_value               112650 non-null  float64\n",
      "dtypes: float64(9), int64(1), object(5)\n",
      "memory usage: 12.9+ MB\n"
     ]
    }
   ],
   "source": [
    "# Merge tables\n",
    "merged_df = pd.merge(product_df, items_df, on='product_id')\n",
    "merged_df.info()"
   ]
  }
 ],
 "metadata": {
  "kernelspec": {
   "display_name": "venv",
   "language": "python",
   "name": "python3"
  },
  "language_info": {
   "codemirror_mode": {
    "name": "ipython",
    "version": 3
   },
   "file_extension": ".py",
   "mimetype": "text/x-python",
   "name": "python",
   "nbconvert_exporter": "python",
   "pygments_lexer": "ipython3",
   "version": "3.9.6"
  }
 },
 "nbformat": 4,
 "nbformat_minor": 5
}
