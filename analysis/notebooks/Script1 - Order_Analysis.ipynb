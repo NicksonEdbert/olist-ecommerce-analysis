{
 "cells": [
  {
   "cell_type": "markdown",
   "id": "63944fb9",
   "metadata": {},
   "source": [
    "Question: What are the top 5 best-selling product category by revenue?\n",
    "1. We need product category - Product Dataset\n",
    "2. We need the total price for each category - Order Items Dataset\n",
    "3. (Optional) Product category name in English - Category Name Dataset\n"
   ]
  },
  {
   "cell_type": "code",
   "execution_count": null,
   "id": "1a0ba472",
   "metadata": {
    "vscode": {
     "languageId": "plaintext"
    }
   },
   "outputs": [],
   "source": []
  }
 ],
 "metadata": {
  "language_info": {
   "name": "python"
  }
 },
 "nbformat": 4,
 "nbformat_minor": 5
}
